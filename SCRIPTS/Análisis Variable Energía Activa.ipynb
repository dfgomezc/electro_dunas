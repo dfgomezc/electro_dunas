{
 "cells": [
  {
   "cell_type": "code",
   "execution_count": 3,
   "metadata": {},
   "outputs": [
    {
     "ename": "FileNotFoundError",
     "evalue": "[WinError 3] El sistema no puede encontrar la ruta especificada: 'GPA-Data-ElectroDunas'",
     "output_type": "error",
     "traceback": [
      "\u001b[1;31m---------------------------------------------------------------------------\u001b[0m",
      "\u001b[1;31mFileNotFoundError\u001b[0m                         Traceback (most recent call last)",
      "\u001b[1;32mc:\\Users\\Felipe\\Documents\\GitHub\\electro_dunas\\SCRIPTS\\Análisis Variable Energía Activa.ipynb Cell 1\u001b[0m line \u001b[0;36m<cell line: 12>\u001b[1;34m()\u001b[0m\n\u001b[0;32m      <a href='vscode-notebook-cell:/c%3A/Users/Felipe/Documents/GitHub/electro_dunas/SCRIPTS/An%C3%A1lisis%20Variable%20Energ%C3%ADa%20Activa.ipynb#W1sZmlsZQ%3D%3D?line=8'>9</a>\u001b[0m dataframes \u001b[39m=\u001b[39m []\n\u001b[0;32m     <a href='vscode-notebook-cell:/c%3A/Users/Felipe/Documents/GitHub/electro_dunas/SCRIPTS/An%C3%A1lisis%20Variable%20Energ%C3%ADa%20Activa.ipynb#W1sZmlsZQ%3D%3D?line=10'>11</a>\u001b[0m \u001b[39m# Itera sobre los archivos en la carpeta\u001b[39;00m\n\u001b[1;32m---> <a href='vscode-notebook-cell:/c%3A/Users/Felipe/Documents/GitHub/electro_dunas/SCRIPTS/An%C3%A1lisis%20Variable%20Energ%C3%ADa%20Activa.ipynb#W1sZmlsZQ%3D%3D?line=11'>12</a>\u001b[0m \u001b[39mfor\u001b[39;00m archivo \u001b[39min\u001b[39;00m os\u001b[39m.\u001b[39;49mlistdir(carpeta):\n\u001b[0;32m     <a href='vscode-notebook-cell:/c%3A/Users/Felipe/Documents/GitHub/electro_dunas/SCRIPTS/An%C3%A1lisis%20Variable%20Energ%C3%ADa%20Activa.ipynb#W1sZmlsZQ%3D%3D?line=12'>13</a>\u001b[0m     \u001b[39mif\u001b[39;00m archivo\u001b[39m.\u001b[39mendswith(\u001b[39m'\u001b[39m\u001b[39m.csv\u001b[39m\u001b[39m'\u001b[39m) \u001b[39mand\u001b[39;00m archivo\u001b[39m.\u001b[39mstartswith(\u001b[39m'\u001b[39m\u001b[39mDATOSCLIENTE\u001b[39m\u001b[39m'\u001b[39m):\n\u001b[0;32m     <a href='vscode-notebook-cell:/c%3A/Users/Felipe/Documents/GitHub/electro_dunas/SCRIPTS/An%C3%A1lisis%20Variable%20Energ%C3%ADa%20Activa.ipynb#W1sZmlsZQ%3D%3D?line=13'>14</a>\u001b[0m         ruta_archivo \u001b[39m=\u001b[39m os\u001b[39m.\u001b[39mpath\u001b[39m.\u001b[39mjoin(carpeta, archivo)\n",
      "\u001b[1;31mFileNotFoundError\u001b[0m: [WinError 3] El sistema no puede encontrar la ruta especificada: 'GPA-Data-ElectroDunas'"
     ]
    }
   ],
   "source": [
    "import os\n",
    "import pandas as pd\n",
    "import re\n",
    "\n",
    "# Especifica la carpeta donde se encuentran los archivos CSV\n",
    "carpeta = 'GPA-Data-ElectroDunas'\n",
    "\n",
    "# Lista para almacenar DataFrames individuales de cada archivo CSV\n",
    "dataframes = []\n",
    "\n",
    "# Itera sobre los archivos en la carpeta\n",
    "for archivo in os.listdir(carpeta):\n",
    "    if archivo.endswith('.csv') and archivo.startswith('DATOSCLIENTE'):\n",
    "        ruta_archivo = os.path.join(carpeta, archivo)\n",
    "        \n",
    "        # Utiliza expresiones regulares para extraer el número del cliente del nombre del archivo\n",
    "        numero_cliente_match = re.search(r'\\d+', archivo)\n",
    "        if numero_cliente_match:\n",
    "            numero_cliente = int(numero_cliente_match.group())\n",
    "        else:\n",
    "            numero_cliente = None  # Manejar el caso en el que no se encuentra un número\n",
    "        \n",
    "        # Lee el archivo CSV y almacena los datos en un DataFrame\n",
    "        df = pd.read_csv(ruta_archivo)\n",
    "        \n",
    "        # Agrega una columna 'Cliente' al DataFrame\n",
    "        df['Cliente'] = f'Cliente {numero_cliente}'\n",
    "        \n",
    "        # Agrega el DataFrame a la lista\n",
    "        dataframes.append(df)\n",
    "\n",
    "# Concatena todos los DataFrames en uno solo\n",
    "df_final = pd.concat(dataframes, ignore_index=True)\n",
    "\n",
    "# Convierte la columna 'Fecha' a tipo datetime\n",
    "df_final['Fecha'] = pd.to_datetime(df_final['Fecha'])\n",
    "\n",
    "# Crea nuevas columnas\n",
    "df_final['Año'] = df_final['Fecha'].dt.year\n",
    "df_final['Mes'] = df_final['Fecha'].dt.month\n",
    "df_final['Trimestre'] = df_final['Fecha'].dt.quarter\n",
    "df_final['Dia'] = df_final['Fecha'].dt.day\n",
    "df_final['Hora'] = df_final['Fecha'].dt.hour\n",
    "df_final['Dia_Semana'] = df_final['Fecha'].dt.day_name()\n",
    "\n",
    "df_final.head()"
   ]
  },
  {
   "cell_type": "code",
   "execution_count": 34,
   "metadata": {},
   "outputs": [
    {
     "name": "stdout",
     "output_type": "stream",
     "text": [
      "Max Active Energy: 14.622644283216186\n",
      "Min Active Energy: -1.329018447895005\n",
      "Standard Deviation of Active Energy: 1.7187798079929433\n"
     ]
    }
   ],
   "source": [
    "## Max, Min, Desvest\n",
    "max_active_energy = df_final['Active_energy'].max()\n",
    "min_active_energy = df_final['Active_energy'].min()\n",
    "std_active_energy = df_final['Active_energy'].std()\n",
    "\n",
    "print(f'Max Active Energy: {max_active_energy}')\n",
    "print(f'Min Active Energy: {min_active_energy}')\n",
    "print(f'Standard Deviation of Active Energy: {std_active_energy}')"
   ]
  },
  {
   "cell_type": "code",
   "execution_count": 35,
   "metadata": {},
   "outputs": [
    {
     "data": {
      "text/plain": [
       "(28839, 12)"
      ]
     },
     "execution_count": 35,
     "metadata": {},
     "output_type": "execute_result"
    }
   ],
   "source": [
    "## Picos de Consumo\n",
    "## Calcular la media y la desviación estándar de 'Active_energy'\n",
    "media_consumo = df_final['Active_energy'].mean()\n",
    "desviacion_estandar_consumo = df_final['Active_energy'].std()\n",
    "\n",
    "## Definir un múltiplo de la desviación estándar como umbral para identificar picos positivos\n",
    "umbral_picos_positivos = 2  \n",
    "\n",
    "## Filtrar las filas que superan el umbral para identificar picos de consumo positivos\n",
    "pico_positivo = df_final[df_final['Active_energy'] > media_consumo + umbral_picos_positivos * desviacion_estandar_consumo]\n",
    "\n",
    "pico_positivo.shape"
   ]
  },
  {
   "cell_type": "code",
   "execution_count": 36,
   "metadata": {},
   "outputs": [
    {
     "name": "stdout",
     "output_type": "stream",
     "text": [
      "Día de la semana de mayor consumo: Friday\n"
     ]
    }
   ],
   "source": [
    "## Día de la semana con mayor consumo\n",
    "dia_max_consumo = df_final.loc[df_final['Active_energy'].idxmax(), 'Dia_Semana']\n",
    "print(f'Día de la semana de mayor consumo: {dia_max_consumo}')"
   ]
  },
  {
   "cell_type": "code",
   "execution_count": 37,
   "metadata": {},
   "outputs": [
    {
     "name": "stdout",
     "output_type": "stream",
     "text": [
      "Mes de mayor consumo: 3\n"
     ]
    }
   ],
   "source": [
    "## Mes con mayor consumo\n",
    "mes_max_consumo = df_final.groupby('Mes')['Active_energy'].sum().idxmax()\n",
    "print(f'Mes de mayor consumo: {mes_max_consumo}')"
   ]
  },
  {
   "cell_type": "code",
   "execution_count": 38,
   "metadata": {},
   "outputs": [
    {
     "name": "stdout",
     "output_type": "stream",
     "text": [
      "Hora y día de la semana de mayor consumo:\n",
      "Hora               1\n",
      "Dia_Semana    Friday\n",
      "Name: 374429, dtype: object\n"
     ]
    }
   ],
   "source": [
    "# Hora y Día de la semana con mayor consumo\n",
    "hora_dia_max_consumo = df_final.loc[df_final['Active_energy'].idxmax(), ['Hora', 'Dia_Semana']]\n",
    "print(f'Hora y día de la semana de mayor consumo:')\n",
    "print(hora_dia_max_consumo)"
   ]
  },
  {
   "cell_type": "code",
   "execution_count": 39,
   "metadata": {},
   "outputs": [
    {
     "data": {
      "text/html": [
       "<div>\n",
       "<style scoped>\n",
       "    .dataframe tbody tr th:only-of-type {\n",
       "        vertical-align: middle;\n",
       "    }\n",
       "\n",
       "    .dataframe tbody tr th {\n",
       "        vertical-align: top;\n",
       "    }\n",
       "\n",
       "    .dataframe thead th {\n",
       "        text-align: right;\n",
       "    }\n",
       "</style>\n",
       "<table border=\"1\" class=\"dataframe\">\n",
       "  <thead>\n",
       "    <tr style=\"text-align: right;\">\n",
       "      <th></th>\n",
       "      <th>Fecha</th>\n",
       "      <th>Active_energy</th>\n",
       "      <th>Reactive_energy</th>\n",
       "      <th>Voltaje_FA</th>\n",
       "      <th>Voltaje_FC</th>\n",
       "      <th>Cliente</th>\n",
       "      <th>Año</th>\n",
       "      <th>Mes</th>\n",
       "      <th>Trimestre</th>\n",
       "      <th>Dia</th>\n",
       "      <th>Hora</th>\n",
       "      <th>Dia_Semana</th>\n",
       "    </tr>\n",
       "  </thead>\n",
       "  <tbody>\n",
       "    <tr>\n",
       "      <th>133780</th>\n",
       "      <td>2021-11-09 15:00:00</td>\n",
       "      <td>-0.381904</td>\n",
       "      <td>0.382493</td>\n",
       "      <td>2077.430688</td>\n",
       "      <td>2093.655684</td>\n",
       "      <td>Cliente 17</td>\n",
       "      <td>2021</td>\n",
       "      <td>11</td>\n",
       "      <td>4</td>\n",
       "      <td>9</td>\n",
       "      <td>15</td>\n",
       "      <td>Tuesday</td>\n",
       "    </tr>\n",
       "    <tr>\n",
       "      <th>133781</th>\n",
       "      <td>2021-11-09 16:00:00</td>\n",
       "      <td>-0.408740</td>\n",
       "      <td>0.469523</td>\n",
       "      <td>2036.334551</td>\n",
       "      <td>2093.205889</td>\n",
       "      <td>Cliente 17</td>\n",
       "      <td>2021</td>\n",
       "      <td>11</td>\n",
       "      <td>4</td>\n",
       "      <td>9</td>\n",
       "      <td>16</td>\n",
       "      <td>Tuesday</td>\n",
       "    </tr>\n",
       "    <tr>\n",
       "      <th>133789</th>\n",
       "      <td>2021-11-10 00:00:00</td>\n",
       "      <td>-0.187803</td>\n",
       "      <td>0.392220</td>\n",
       "      <td>1950.083873</td>\n",
       "      <td>1951.344805</td>\n",
       "      <td>Cliente 17</td>\n",
       "      <td>2021</td>\n",
       "      <td>11</td>\n",
       "      <td>4</td>\n",
       "      <td>10</td>\n",
       "      <td>0</td>\n",
       "      <td>Wednesday</td>\n",
       "    </tr>\n",
       "    <tr>\n",
       "      <th>133790</th>\n",
       "      <td>2021-11-10 01:00:00</td>\n",
       "      <td>-0.455174</td>\n",
       "      <td>0.459796</td>\n",
       "      <td>1931.903407</td>\n",
       "      <td>1858.665907</td>\n",
       "      <td>Cliente 17</td>\n",
       "      <td>2021</td>\n",
       "      <td>11</td>\n",
       "      <td>4</td>\n",
       "      <td>10</td>\n",
       "      <td>1</td>\n",
       "      <td>Wednesday</td>\n",
       "    </tr>\n",
       "    <tr>\n",
       "      <th>133791</th>\n",
       "      <td>2021-11-10 02:00:00</td>\n",
       "      <td>-0.338941</td>\n",
       "      <td>0.390148</td>\n",
       "      <td>1910.706034</td>\n",
       "      <td>2064.042938</td>\n",
       "      <td>Cliente 17</td>\n",
       "      <td>2021</td>\n",
       "      <td>11</td>\n",
       "      <td>4</td>\n",
       "      <td>10</td>\n",
       "      <td>2</td>\n",
       "      <td>Wednesday</td>\n",
       "    </tr>\n",
       "    <tr>\n",
       "      <th>...</th>\n",
       "      <td>...</td>\n",
       "      <td>...</td>\n",
       "      <td>...</td>\n",
       "      <td>...</td>\n",
       "      <td>...</td>\n",
       "      <td>...</td>\n",
       "      <td>...</td>\n",
       "      <td>...</td>\n",
       "      <td>...</td>\n",
       "      <td>...</td>\n",
       "      <td>...</td>\n",
       "      <td>...</td>\n",
       "    </tr>\n",
       "    <tr>\n",
       "      <th>216302</th>\n",
       "      <td>2022-05-09 12:00:00</td>\n",
       "      <td>-0.457582</td>\n",
       "      <td>0.200000</td>\n",
       "      <td>2069.593516</td>\n",
       "      <td>2077.851435</td>\n",
       "      <td>Cliente 20</td>\n",
       "      <td>2022</td>\n",
       "      <td>5</td>\n",
       "      <td>2</td>\n",
       "      <td>9</td>\n",
       "      <td>12</td>\n",
       "      <td>Monday</td>\n",
       "    </tr>\n",
       "    <tr>\n",
       "      <th>216303</th>\n",
       "      <td>2022-05-09 13:00:00</td>\n",
       "      <td>-0.458964</td>\n",
       "      <td>1.484933</td>\n",
       "      <td>2078.795633</td>\n",
       "      <td>2073.401393</td>\n",
       "      <td>Cliente 20</td>\n",
       "      <td>2022</td>\n",
       "      <td>5</td>\n",
       "      <td>2</td>\n",
       "      <td>9</td>\n",
       "      <td>13</td>\n",
       "      <td>Monday</td>\n",
       "    </tr>\n",
       "    <tr>\n",
       "      <th>216304</th>\n",
       "      <td>2022-05-09 14:00:00</td>\n",
       "      <td>-0.427294</td>\n",
       "      <td>0.231000</td>\n",
       "      <td>2071.330458</td>\n",
       "      <td>2079.444732</td>\n",
       "      <td>Cliente 20</td>\n",
       "      <td>2022</td>\n",
       "      <td>5</td>\n",
       "      <td>2</td>\n",
       "      <td>9</td>\n",
       "      <td>14</td>\n",
       "      <td>Monday</td>\n",
       "    </tr>\n",
       "    <tr>\n",
       "      <th>216305</th>\n",
       "      <td>2022-05-09 15:00:00</td>\n",
       "      <td>-0.455775</td>\n",
       "      <td>0.200000</td>\n",
       "      <td>2039.538550</td>\n",
       "      <td>2088.843514</td>\n",
       "      <td>Cliente 20</td>\n",
       "      <td>2022</td>\n",
       "      <td>5</td>\n",
       "      <td>2</td>\n",
       "      <td>9</td>\n",
       "      <td>15</td>\n",
       "      <td>Monday</td>\n",
       "    </tr>\n",
       "    <tr>\n",
       "      <th>216306</th>\n",
       "      <td>2022-05-09 16:00:00</td>\n",
       "      <td>-0.420409</td>\n",
       "      <td>0.495809</td>\n",
       "      <td>2057.675348</td>\n",
       "      <td>1993.268293</td>\n",
       "      <td>Cliente 20</td>\n",
       "      <td>2022</td>\n",
       "      <td>5</td>\n",
       "      <td>2</td>\n",
       "      <td>9</td>\n",
       "      <td>16</td>\n",
       "      <td>Monday</td>\n",
       "    </tr>\n",
       "  </tbody>\n",
       "</table>\n",
       "<p>505 rows × 12 columns</p>\n",
       "</div>"
      ],
      "text/plain": [
       "                     Fecha  Active_energy  Reactive_energy   Voltaje_FA  \\\n",
       "133780 2021-11-09 15:00:00      -0.381904         0.382493  2077.430688   \n",
       "133781 2021-11-09 16:00:00      -0.408740         0.469523  2036.334551   \n",
       "133789 2021-11-10 00:00:00      -0.187803         0.392220  1950.083873   \n",
       "133790 2021-11-10 01:00:00      -0.455174         0.459796  1931.903407   \n",
       "133791 2021-11-10 02:00:00      -0.338941         0.390148  1910.706034   \n",
       "...                    ...            ...              ...          ...   \n",
       "216302 2022-05-09 12:00:00      -0.457582         0.200000  2069.593516   \n",
       "216303 2022-05-09 13:00:00      -0.458964         1.484933  2078.795633   \n",
       "216304 2022-05-09 14:00:00      -0.427294         0.231000  2071.330458   \n",
       "216305 2022-05-09 15:00:00      -0.455775         0.200000  2039.538550   \n",
       "216306 2022-05-09 16:00:00      -0.420409         0.495809  2057.675348   \n",
       "\n",
       "         Voltaje_FC     Cliente   Año  Mes  Trimestre  Dia  Hora Dia_Semana  \n",
       "133780  2093.655684  Cliente 17  2021   11          4    9    15    Tuesday  \n",
       "133781  2093.205889  Cliente 17  2021   11          4    9    16    Tuesday  \n",
       "133789  1951.344805  Cliente 17  2021   11          4   10     0  Wednesday  \n",
       "133790  1858.665907  Cliente 17  2021   11          4   10     1  Wednesday  \n",
       "133791  2064.042938  Cliente 17  2021   11          4   10     2  Wednesday  \n",
       "...             ...         ...   ...  ...        ...  ...   ...        ...  \n",
       "216302  2077.851435  Cliente 20  2022    5          2    9    12     Monday  \n",
       "216303  2073.401393  Cliente 20  2022    5          2    9    13     Monday  \n",
       "216304  2079.444732  Cliente 20  2022    5          2    9    14     Monday  \n",
       "216305  2088.843514  Cliente 20  2022    5          2    9    15     Monday  \n",
       "216306  1993.268293  Cliente 20  2022    5          2    9    16     Monday  \n",
       "\n",
       "[505 rows x 12 columns]"
      ]
     },
     "execution_count": 39,
     "metadata": {},
     "output_type": "execute_result"
    }
   ],
   "source": [
    "## Valores Negativos\n",
    "valores_negativos = df_final[df_final['Active_energy'] < 0]\n",
    "valores_negativos"
   ]
  },
  {
   "cell_type": "code",
   "execution_count": 40,
   "metadata": {},
   "outputs": [
    {
     "name": "stdout",
     "output_type": "stream",
     "text": [
      "Completitud (sin valores nulos): True\n",
      "Completitud (sin valores no numéricos): True\n"
     ]
    }
   ],
   "source": [
    "## Completitud\n",
    "\n",
    "## Total de filas antes de cambios\n",
    "total_filas_antes = len(df_final)\n",
    "\n",
    "## Verificar si hay valores nulos\n",
    "completitud_sin_nulos = df_final['Active_energy'].notnull().all()\n",
    "\n",
    "## Verificar si hay valores no numéricos\n",
    "completitud_numerica = pd.to_numeric(df_final['Active_energy'], errors='coerce').notnull().all()\n",
    "\n",
    "# Imprimir resultados\n",
    "print(f'Completitud (sin valores nulos): {completitud_sin_nulos}')\n",
    "print(f'Completitud (sin valores no numéricos): {completitud_numerica}')"
   ]
  },
  {
   "cell_type": "code",
   "execution_count": 44,
   "metadata": {},
   "outputs": [
    {
     "name": "stdout",
     "output_type": "stream",
     "text": [
      "Clientes con días u horas faltantes:\n",
      "['Cliente 1', 'Cliente 10', 'Cliente 11', 'Cliente 12', 'Cliente 13', 'Cliente 14', 'Cliente 15', 'Cliente 16', 'Cliente 17', 'Cliente 18', 'Cliente 19', 'Cliente 2', 'Cliente 20', 'Cliente 21', 'Cliente 22', 'Cliente 23', 'Cliente 24', 'Cliente 25', 'Cliente 26', 'Cliente 27', 'Cliente 28', 'Cliente 29', 'Cliente 3', 'Cliente 30', 'Cliente 4', 'Cliente 5', 'Cliente 6', 'Cliente 7', 'Cliente 8', 'Cliente 9']\n",
      "Número de clientes con días u horas faltantes: 30\n"
     ]
    }
   ],
   "source": [
    "## Clientes que dejan de reportar\n",
    "clientes_faltantes = []\n",
    "\n",
    "# Agrupar por cliente y fecha, contar las observaciones y verificar si hay algún día u hora faltante\n",
    "for cliente, sub_df in df_final.groupby('Cliente'):\n",
    "    fechas_esperadas = pd.date_range(sub_df['Fecha'].min(), sub_df['Fecha'].max(), freq='H' if 'Hora' in sub_df.columns else 'D')\n",
    "    fechas_reales = sub_df['Fecha']\n",
    "    \n",
    "    if not fechas_esperadas.equals(fechas_reales):\n",
    "        clientes_faltantes.append(cliente)\n",
    "\n",
    "print('Clientes con días u horas faltantes:')\n",
    "print(clientes_faltantes)\n",
    "conteo_clientes_faltantes = len(clientes_faltantes)\n",
    "print(f'Número de clientes con días u horas faltantes: {conteo_clientes_faltantes}')"
   ]
  },
  {
   "cell_type": "code",
   "execution_count": 52,
   "metadata": {},
   "outputs": [
    {
     "name": "stdout",
     "output_type": "stream",
     "text": [
      "Clientes con días sin reporte:\n",
      "['Cliente 1', 'Cliente 10', 'Cliente 11', 'Cliente 12', 'Cliente 13', 'Cliente 14', 'Cliente 15', 'Cliente 16', 'Cliente 17', 'Cliente 18', 'Cliente 19', 'Cliente 2', 'Cliente 20', 'Cliente 21', 'Cliente 22', 'Cliente 23', 'Cliente 24', 'Cliente 25', 'Cliente 26', 'Cliente 27', 'Cliente 28', 'Cliente 29', 'Cliente 3', 'Cliente 30', 'Cliente 4', 'Cliente 5', 'Cliente 6', 'Cliente 7', 'Cliente 8', 'Cliente 9']\n",
      "Número de clientes con días faltantes: 30\n"
     ]
    }
   ],
   "source": [
    "## Verificar si todos los días se reportan mediciones\n",
    "clientes_dias_sin_reporte = []\n",
    "\n",
    "for cliente, sub_df in df_final.groupby('Cliente'):\n",
    "    fechas_esperadas_dia = pd.date_range(sub_df['Fecha'].min(), sub_df['Fecha'].max(), freq='D')\n",
    "    fechas_reales_dia = sub_df['Fecha'].dt.floor('D')\n",
    "    \n",
    "    if not fechas_esperadas_dia.equals(fechas_reales_dia):\n",
    "        clientes_dias_sin_reporte.append(cliente)\n",
    "\n",
    "print('Clientes con días sin reporte:')\n",
    "print(clientes_dias_sin_reporte)\n",
    "conteo_clientes_dias = len(clientes_dias_sin_reporte)\n",
    "print(f'Número de clientes con días faltantes: {conteo_clientes_dias}')"
   ]
  },
  {
   "cell_type": "code",
   "execution_count": 54,
   "metadata": {},
   "outputs": [
    {
     "name": "stdout",
     "output_type": "stream",
     "text": [
      "Clientes con horas sin medición:\n",
      "['Cliente 1', 'Cliente 10', 'Cliente 11', 'Cliente 12', 'Cliente 13', 'Cliente 14', 'Cliente 15', 'Cliente 16', 'Cliente 17', 'Cliente 18', 'Cliente 19', 'Cliente 2', 'Cliente 20', 'Cliente 21', 'Cliente 22', 'Cliente 23', 'Cliente 24', 'Cliente 25', 'Cliente 26', 'Cliente 27', 'Cliente 28', 'Cliente 29', 'Cliente 3', 'Cliente 30', 'Cliente 4', 'Cliente 5', 'Cliente 6', 'Cliente 7', 'Cliente 8', 'Cliente 9']\n",
      "Número de clientes con días faltantes: 30\n"
     ]
    }
   ],
   "source": [
    "## Verificar si todas las horas se reportan mediciones\n",
    "clientes_horas_sin_medicion = []\n",
    "\n",
    "for cliente, sub_df in df_final.groupby('Cliente'):\n",
    "    fechas_esperadas_hora = pd.date_range(sub_df['Fecha'].min(), sub_df['Fecha'].max(), freq='H')\n",
    "    fechas_reales_hora = sub_df['Fecha'].dt.floor('H')\n",
    "    \n",
    "    if not fechas_esperadas_hora.equals(fechas_reales_hora):\n",
    "        clientes_horas_sin_medicion.append(cliente)\n",
    "\n",
    "print('Clientes con horas sin medición:')\n",
    "print(clientes_horas_sin_medicion)\n",
    "conteo_clientes_horas = len(clientes_horas_sin_medicion)\n",
    "print(f'Número de clientes con días faltantes: {conteo_clientes_horas}')"
   ]
  },
  {
   "cell_type": "code",
   "execution_count": 1,
   "metadata": {},
   "outputs": [
    {
     "ename": "NameError",
     "evalue": "name 'df_final' is not defined",
     "output_type": "error",
     "traceback": [
      "\u001b[1;31m---------------------------------------------------------------------------\u001b[0m",
      "\u001b[1;31mNameError\u001b[0m                                 Traceback (most recent call last)",
      "\u001b[1;32mc:\\Users\\Felipe\\Documents\\GitHub\\electro_dunas\\SCRIPTS\\Análisis Variable Energía Activa.ipynb Cell 12\u001b[0m line \u001b[0;36m<cell line: 19>\u001b[1;34m()\u001b[0m\n\u001b[0;32m      <a href='vscode-notebook-cell:/c%3A/Users/Felipe/Documents/GitHub/electro_dunas/SCRIPTS/An%C3%A1lisis%20Variable%20Energ%C3%ADa%20Activa.ipynb#W0sZmlsZQ%3D%3D?line=7'>8</a>\u001b[0m     \u001b[39mreturn\u001b[39;00m pd\u001b[39m.\u001b[39mSeries({\n\u001b[0;32m      <a href='vscode-notebook-cell:/c%3A/Users/Felipe/Documents/GitHub/electro_dunas/SCRIPTS/An%C3%A1lisis%20Variable%20Energ%C3%ADa%20Activa.ipynb#W0sZmlsZQ%3D%3D?line=8'>9</a>\u001b[0m         \u001b[39m'\u001b[39m\u001b[39mMínimo\u001b[39m\u001b[39m'\u001b[39m: df_final[variable]\u001b[39m.\u001b[39mmin(),\n\u001b[0;32m     <a href='vscode-notebook-cell:/c%3A/Users/Felipe/Documents/GitHub/electro_dunas/SCRIPTS/An%C3%A1lisis%20Variable%20Energ%C3%ADa%20Activa.ipynb#W0sZmlsZQ%3D%3D?line=9'>10</a>\u001b[0m         \u001b[39m'\u001b[39m\u001b[39mPrimer cuartil\u001b[39m\u001b[39m'\u001b[39m: df_final[variable]\u001b[39m.\u001b[39mquantile(\u001b[39m0.25\u001b[39m),\n\u001b[1;32m   (...)\u001b[0m\n\u001b[0;32m     <a href='vscode-notebook-cell:/c%3A/Users/Felipe/Documents/GitHub/electro_dunas/SCRIPTS/An%C3%A1lisis%20Variable%20Energ%C3%ADa%20Activa.ipynb#W0sZmlsZQ%3D%3D?line=14'>15</a>\u001b[0m         \u001b[39m'\u001b[39m\u001b[39mDesviación\u001b[39m\u001b[39m'\u001b[39m: df_final[variable]\u001b[39m.\u001b[39mstd()\n\u001b[0;32m     <a href='vscode-notebook-cell:/c%3A/Users/Felipe/Documents/GitHub/electro_dunas/SCRIPTS/An%C3%A1lisis%20Variable%20Energ%C3%ADa%20Activa.ipynb#W0sZmlsZQ%3D%3D?line=15'>16</a>\u001b[0m     }, name\u001b[39m=\u001b[39mvariable)\n\u001b[0;32m     <a href='vscode-notebook-cell:/c%3A/Users/Felipe/Documents/GitHub/electro_dunas/SCRIPTS/An%C3%A1lisis%20Variable%20Energ%C3%ADa%20Activa.ipynb#W0sZmlsZQ%3D%3D?line=17'>18</a>\u001b[0m \u001b[39m# Crear un DataFrame con las estadísticas para cada variable\u001b[39;00m\n\u001b[1;32m---> <a href='vscode-notebook-cell:/c%3A/Users/Felipe/Documents/GitHub/electro_dunas/SCRIPTS/An%C3%A1lisis%20Variable%20Energ%C3%ADa%20Activa.ipynb#W0sZmlsZQ%3D%3D?line=18'>19</a>\u001b[0m tabla_estadisticas \u001b[39m=\u001b[39m pd\u001b[39m.\u001b[39mDataFrame([calcular_estadisticas(variable) \u001b[39mfor\u001b[39;00m variable \u001b[39min\u001b[39;00m variables_interes])\n\u001b[0;32m     <a href='vscode-notebook-cell:/c%3A/Users/Felipe/Documents/GitHub/electro_dunas/SCRIPTS/An%C3%A1lisis%20Variable%20Energ%C3%ADa%20Activa.ipynb#W0sZmlsZQ%3D%3D?line=20'>21</a>\u001b[0m \u001b[39m# Imprimir la tabla\u001b[39;00m\n\u001b[0;32m     <a href='vscode-notebook-cell:/c%3A/Users/Felipe/Documents/GitHub/electro_dunas/SCRIPTS/An%C3%A1lisis%20Variable%20Energ%C3%ADa%20Activa.ipynb#W0sZmlsZQ%3D%3D?line=21'>22</a>\u001b[0m \u001b[39mprint\u001b[39m(tabla_estadisticas)\n",
      "\u001b[1;32mc:\\Users\\Felipe\\Documents\\GitHub\\electro_dunas\\SCRIPTS\\Análisis Variable Energía Activa.ipynb Cell 12\u001b[0m line \u001b[0;36m<listcomp>\u001b[1;34m(.0)\u001b[0m\n\u001b[0;32m      <a href='vscode-notebook-cell:/c%3A/Users/Felipe/Documents/GitHub/electro_dunas/SCRIPTS/An%C3%A1lisis%20Variable%20Energ%C3%ADa%20Activa.ipynb#W0sZmlsZQ%3D%3D?line=7'>8</a>\u001b[0m     \u001b[39mreturn\u001b[39;00m pd\u001b[39m.\u001b[39mSeries({\n\u001b[0;32m      <a href='vscode-notebook-cell:/c%3A/Users/Felipe/Documents/GitHub/electro_dunas/SCRIPTS/An%C3%A1lisis%20Variable%20Energ%C3%ADa%20Activa.ipynb#W0sZmlsZQ%3D%3D?line=8'>9</a>\u001b[0m         \u001b[39m'\u001b[39m\u001b[39mMínimo\u001b[39m\u001b[39m'\u001b[39m: df_final[variable]\u001b[39m.\u001b[39mmin(),\n\u001b[0;32m     <a href='vscode-notebook-cell:/c%3A/Users/Felipe/Documents/GitHub/electro_dunas/SCRIPTS/An%C3%A1lisis%20Variable%20Energ%C3%ADa%20Activa.ipynb#W0sZmlsZQ%3D%3D?line=9'>10</a>\u001b[0m         \u001b[39m'\u001b[39m\u001b[39mPrimer cuartil\u001b[39m\u001b[39m'\u001b[39m: df_final[variable]\u001b[39m.\u001b[39mquantile(\u001b[39m0.25\u001b[39m),\n\u001b[1;32m   (...)\u001b[0m\n\u001b[0;32m     <a href='vscode-notebook-cell:/c%3A/Users/Felipe/Documents/GitHub/electro_dunas/SCRIPTS/An%C3%A1lisis%20Variable%20Energ%C3%ADa%20Activa.ipynb#W0sZmlsZQ%3D%3D?line=14'>15</a>\u001b[0m         \u001b[39m'\u001b[39m\u001b[39mDesviación\u001b[39m\u001b[39m'\u001b[39m: df_final[variable]\u001b[39m.\u001b[39mstd()\n\u001b[0;32m     <a href='vscode-notebook-cell:/c%3A/Users/Felipe/Documents/GitHub/electro_dunas/SCRIPTS/An%C3%A1lisis%20Variable%20Energ%C3%ADa%20Activa.ipynb#W0sZmlsZQ%3D%3D?line=15'>16</a>\u001b[0m     }, name\u001b[39m=\u001b[39mvariable)\n\u001b[0;32m     <a href='vscode-notebook-cell:/c%3A/Users/Felipe/Documents/GitHub/electro_dunas/SCRIPTS/An%C3%A1lisis%20Variable%20Energ%C3%ADa%20Activa.ipynb#W0sZmlsZQ%3D%3D?line=17'>18</a>\u001b[0m \u001b[39m# Crear un DataFrame con las estadísticas para cada variable\u001b[39;00m\n\u001b[1;32m---> <a href='vscode-notebook-cell:/c%3A/Users/Felipe/Documents/GitHub/electro_dunas/SCRIPTS/An%C3%A1lisis%20Variable%20Energ%C3%ADa%20Activa.ipynb#W0sZmlsZQ%3D%3D?line=18'>19</a>\u001b[0m tabla_estadisticas \u001b[39m=\u001b[39m pd\u001b[39m.\u001b[39mDataFrame([calcular_estadisticas(variable) \u001b[39mfor\u001b[39;00m variable \u001b[39min\u001b[39;00m variables_interes])\n\u001b[0;32m     <a href='vscode-notebook-cell:/c%3A/Users/Felipe/Documents/GitHub/electro_dunas/SCRIPTS/An%C3%A1lisis%20Variable%20Energ%C3%ADa%20Activa.ipynb#W0sZmlsZQ%3D%3D?line=20'>21</a>\u001b[0m \u001b[39m# Imprimir la tabla\u001b[39;00m\n\u001b[0;32m     <a href='vscode-notebook-cell:/c%3A/Users/Felipe/Documents/GitHub/electro_dunas/SCRIPTS/An%C3%A1lisis%20Variable%20Energ%C3%ADa%20Activa.ipynb#W0sZmlsZQ%3D%3D?line=21'>22</a>\u001b[0m \u001b[39mprint\u001b[39m(tabla_estadisticas)\n",
      "\u001b[1;32mc:\\Users\\Felipe\\Documents\\GitHub\\electro_dunas\\SCRIPTS\\Análisis Variable Energía Activa.ipynb Cell 12\u001b[0m line \u001b[0;36mcalcular_estadisticas\u001b[1;34m(variable)\u001b[0m\n\u001b[0;32m      <a href='vscode-notebook-cell:/c%3A/Users/Felipe/Documents/GitHub/electro_dunas/SCRIPTS/An%C3%A1lisis%20Variable%20Energ%C3%ADa%20Activa.ipynb#W0sZmlsZQ%3D%3D?line=6'>7</a>\u001b[0m \u001b[39mdef\u001b[39;00m \u001b[39mcalcular_estadisticas\u001b[39m(variable):\n\u001b[0;32m      <a href='vscode-notebook-cell:/c%3A/Users/Felipe/Documents/GitHub/electro_dunas/SCRIPTS/An%C3%A1lisis%20Variable%20Energ%C3%ADa%20Activa.ipynb#W0sZmlsZQ%3D%3D?line=7'>8</a>\u001b[0m     \u001b[39mreturn\u001b[39;00m pd\u001b[39m.\u001b[39mSeries({\n\u001b[1;32m----> <a href='vscode-notebook-cell:/c%3A/Users/Felipe/Documents/GitHub/electro_dunas/SCRIPTS/An%C3%A1lisis%20Variable%20Energ%C3%ADa%20Activa.ipynb#W0sZmlsZQ%3D%3D?line=8'>9</a>\u001b[0m         \u001b[39m'\u001b[39m\u001b[39mMínimo\u001b[39m\u001b[39m'\u001b[39m: df_final[variable]\u001b[39m.\u001b[39mmin(),\n\u001b[0;32m     <a href='vscode-notebook-cell:/c%3A/Users/Felipe/Documents/GitHub/electro_dunas/SCRIPTS/An%C3%A1lisis%20Variable%20Energ%C3%ADa%20Activa.ipynb#W0sZmlsZQ%3D%3D?line=9'>10</a>\u001b[0m         \u001b[39m'\u001b[39m\u001b[39mPrimer cuartil\u001b[39m\u001b[39m'\u001b[39m: df_final[variable]\u001b[39m.\u001b[39mquantile(\u001b[39m0.25\u001b[39m),\n\u001b[0;32m     <a href='vscode-notebook-cell:/c%3A/Users/Felipe/Documents/GitHub/electro_dunas/SCRIPTS/An%C3%A1lisis%20Variable%20Energ%C3%ADa%20Activa.ipynb#W0sZmlsZQ%3D%3D?line=10'>11</a>\u001b[0m         \u001b[39m'\u001b[39m\u001b[39mPromedio\u001b[39m\u001b[39m'\u001b[39m: df_final[variable]\u001b[39m.\u001b[39mmean(),\n\u001b[0;32m     <a href='vscode-notebook-cell:/c%3A/Users/Felipe/Documents/GitHub/electro_dunas/SCRIPTS/An%C3%A1lisis%20Variable%20Energ%C3%ADa%20Activa.ipynb#W0sZmlsZQ%3D%3D?line=11'>12</a>\u001b[0m         \u001b[39m'\u001b[39m\u001b[39mMediana\u001b[39m\u001b[39m'\u001b[39m: df_final[variable]\u001b[39m.\u001b[39mmedian(),\n\u001b[0;32m     <a href='vscode-notebook-cell:/c%3A/Users/Felipe/Documents/GitHub/electro_dunas/SCRIPTS/An%C3%A1lisis%20Variable%20Energ%C3%ADa%20Activa.ipynb#W0sZmlsZQ%3D%3D?line=12'>13</a>\u001b[0m         \u001b[39m'\u001b[39m\u001b[39mTercer cuartil\u001b[39m\u001b[39m'\u001b[39m: df_final[variable]\u001b[39m.\u001b[39mquantile(\u001b[39m0.75\u001b[39m),\n\u001b[0;32m     <a href='vscode-notebook-cell:/c%3A/Users/Felipe/Documents/GitHub/electro_dunas/SCRIPTS/An%C3%A1lisis%20Variable%20Energ%C3%ADa%20Activa.ipynb#W0sZmlsZQ%3D%3D?line=13'>14</a>\u001b[0m         \u001b[39m'\u001b[39m\u001b[39mMáximo\u001b[39m\u001b[39m'\u001b[39m: df_final[variable]\u001b[39m.\u001b[39mmax(),\n\u001b[0;32m     <a href='vscode-notebook-cell:/c%3A/Users/Felipe/Documents/GitHub/electro_dunas/SCRIPTS/An%C3%A1lisis%20Variable%20Energ%C3%ADa%20Activa.ipynb#W0sZmlsZQ%3D%3D?line=14'>15</a>\u001b[0m         \u001b[39m'\u001b[39m\u001b[39mDesviación\u001b[39m\u001b[39m'\u001b[39m: df_final[variable]\u001b[39m.\u001b[39mstd()\n\u001b[0;32m     <a href='vscode-notebook-cell:/c%3A/Users/Felipe/Documents/GitHub/electro_dunas/SCRIPTS/An%C3%A1lisis%20Variable%20Energ%C3%ADa%20Activa.ipynb#W0sZmlsZQ%3D%3D?line=15'>16</a>\u001b[0m     }, name\u001b[39m=\u001b[39mvariable)\n",
      "\u001b[1;31mNameError\u001b[0m: name 'df_final' is not defined"
     ]
    }
   ],
   "source": [
    "import pandas as pd\n",
    "\n",
    "# Variables de interés\n",
    "variables_interes = ['Active_energy', 'Voltaje_FA', 'Voltaje_FC']\n",
    "\n",
    "# Función para calcular las estadísticas deseadas\n",
    "def calcular_estadisticas(variable):\n",
    "    return pd.Series({\n",
    "        'Mínimo': df_final[variable].min(),\n",
    "        'Primer cuartil': df_final[variable].quantile(0.25),\n",
    "        'Promedio': df_final[variable].mean(),\n",
    "        'Mediana': df_final[variable].median(),\n",
    "        'Tercer cuartil': df_final[variable].quantile(0.75),\n",
    "        'Máximo': df_final[variable].max(),\n",
    "        'Desviación': df_final[variable].std()\n",
    "    }, name=variable)\n",
    "\n",
    "# Crear un DataFrame con las estadísticas para cada variable\n",
    "tabla_estadisticas = pd.DataFrame([calcular_estadisticas(variable) for variable in variables_interes])\n",
    "\n",
    "# Imprimir la tabla\n",
    "print(tabla_estadisticas)"
   ]
  },
  {
   "cell_type": "code",
   "execution_count": null,
   "metadata": {},
   "outputs": [],
   "source": []
  }
 ],
 "metadata": {
  "kernelspec": {
   "display_name": "Financiero",
   "language": "python",
   "name": "python3"
  },
  "language_info": {
   "codemirror_mode": {
    "name": "ipython",
    "version": 3
   },
   "file_extension": ".py",
   "mimetype": "text/x-python",
   "name": "python",
   "nbconvert_exporter": "python",
   "pygments_lexer": "ipython3",
   "version": "3.9.12"
  }
 },
 "nbformat": 4,
 "nbformat_minor": 2
}
